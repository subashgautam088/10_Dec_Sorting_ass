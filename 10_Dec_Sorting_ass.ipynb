{
 "cells": [
  {
   "cell_type": "code",
   "execution_count": 1,
   "id": "9ab82bd7-e238-4910-9531-bb164fee8f39",
   "metadata": {},
   "outputs": [
    {
     "name": "stdout",
     "output_type": "stream",
     "text": [
      "The element  1 appearing maximum number of times is  4\n"
     ]
    }
   ],
   "source": [
    "'''Problem 1.Given an array of n numbers, give an algorithm which gives the element appearing maximum \n",
    "number of times '''\n",
    "def max_appearance(arr):\n",
    "    max_count = 0\n",
    "    max_appear_num = None\n",
    "\n",
    "    for i in range(len(arr)):\n",
    "        count = 1\n",
    "        for j in range(i+1,len(arr)):\n",
    "            if arr[j] == arr[i]:\n",
    "                count += 1\n",
    "        if (count > max_count):\n",
    "            max_count = count\n",
    "            max_appear_num = arr[i]\n",
    "    print(\"The element \",max_appear_num,\"appearing maximum number of times is \",max_count)\n",
    "\n",
    "arr = [1,2,3,1,2,32,1,3,2,1,3,21,4,5,64,5,6]\n",
    "result = max_appearance(arr)"
   ]
  },
  {
   "cell_type": "code",
   "execution_count": 2,
   "id": "cfa63c6f-d117-4ff1-ae57-a1bd0e4a981b",
   "metadata": {},
   "outputs": [
    {
     "name": "stdout",
     "output_type": "stream",
     "text": [
      "The missing number is  5\n"
     ]
    }
   ],
   "source": [
    "'''Problem 2 : We are given a list of n-1 integers and these integers are in the range of 1 to n . There are no \n",
    "duplicates in the list. One of the integers is missing in the list. Give an algorithm to find that element Ex: \n",
    "[1,2,4,6,3,7,8] 5 is the missing num.'''\n",
    "def find_missing_num(arr1):\n",
    "    n = len(arr1) + 1  # Total length of arr including the missing number\n",
    "\n",
    "    sum_n = n * (n+1)//2 # Calculate the sum of n natural number\n",
    "\n",
    "    sum_num = sum(arr1) # Calculate the sum of given list\n",
    "\n",
    "    # Find the missing number \n",
    "    missing_num = sum_n - sum_num\n",
    "\n",
    "    return missing_num\n",
    "\n",
    "arr1 = [1,2,4,6,3,7,8] \n",
    "missing_number = find_missing_num(arr1)\n",
    "print(\"The missing number is \",missing_number)"
   ]
  },
  {
   "cell_type": "code",
   "execution_count": 3,
   "id": "d467497d-8c55-4756-b669-1bc4eb0b5321",
   "metadata": {},
   "outputs": [
    {
     "name": "stdout",
     "output_type": "stream",
     "text": [
      "The odd number of times occurence number is  3\n"
     ]
    }
   ],
   "source": [
    "'''Problem 3 : Given an array of n positive numbers. All numbers occurs even number of times except 1 which \n",
    "occurs odd number of times. Find that number in O(n) time and O(1) space. Ex: [1,2,3,2,3,1,3]. 3 is repeats odd \n",
    "times'''\n",
    "\n",
    "def find_odd_occerence(arr2):\n",
    "    result = 0\n",
    "\n",
    "    for num in arr2:\n",
    "        result = result^num\n",
    "\n",
    "    return result\n",
    "\n",
    "arr2 = [1,2,3,2,3,1,3]\n",
    "odd_occurence = find_odd_occerence(arr2)\n",
    "print(\"The odd number of times occurence number is \",odd_occurence)"
   ]
  },
  {
   "cell_type": "code",
   "execution_count": 4,
   "id": "1c5827e3-46ab-4e30-9db3-683629bf81a5",
   "metadata": {},
   "outputs": [
    {
     "name": "stdout",
     "output_type": "stream",
     "text": [
      "The pair with sum 9 is: 4 and 5\n"
     ]
    }
   ],
   "source": [
    "'''Problem 4 : Given an array of n elements. Find two elements in the array such that their sum is equal to given \n",
    "element K'''\n",
    "def find_pair_with_sum(arr, target_sum):\n",
    "    num_dict = {}\n",
    "\n",
    "    for num in arr:\n",
    "        complement = target_sum - num\n",
    "\n",
    "        if complement in num_dict:\n",
    "            return [complement, num]\n",
    "        \n",
    "        num_dict[num] = True\n",
    "\n",
    "    return None  # No pair found\n",
    "\n",
    "# Example usage:\n",
    "arr = [1, 2, 3, 4, 5, 6]\n",
    "target_sum = 9\n",
    "result = find_pair_with_sum(arr, target_sum)\n",
    "\n",
    "if result is not None:\n",
    "    print(f\"The pair with sum {target_sum} is: {result[0]} and {result[1]}\")\n",
    "else:\n",
    "    print(f\"No pair found with sum {target_sum}\")\n"
   ]
  },
  {
   "cell_type": "code",
   "execution_count": 5,
   "id": "ed720f30-e00d-4131-a2e3-1afcc9fdcd0d",
   "metadata": {},
   "outputs": [
    {
     "name": "stdout",
     "output_type": "stream",
     "text": [
      "The two numbers whose sum is closest to zero are: [-80, 85]\n"
     ]
    }
   ],
   "source": [
    "'''Problem 5 : Given an array of both positive and negative numbers, find two numbers such that their sum is \n",
    "closest to 0. Ex: [ 1 ,60 ,-10, 70, -80,85]. Ans : -80,85.'''\n",
    "def closest_sum_to_zero(arr4):\n",
    "    arr4.sort()\n",
    "    pair = []\n",
    "    left = 0\n",
    "    right = len(arr4) - 1\n",
    "\n",
    "    closest_sum = float('inf')\n",
    "\n",
    "    while left < right:\n",
    "        current_sum = arr4[left] + arr4[right]\n",
    "\n",
    "        if abs(current_sum) < abs(closest_sum):\n",
    "            closest_sum = current_sum\n",
    "            pair = [arr4[left], arr4[right]]\n",
    "\n",
    "        # Move pointers based on the comparison\n",
    "        if current_sum < 0:\n",
    "            left += 1\n",
    "        elif current_sum > 0:\n",
    "            right -= 1\n",
    "        else:\n",
    "            return pair  # If sum is 0, return the pair immediately\n",
    "\n",
    "    return pair\n",
    "\n",
    "arr4 = [ 1 ,60 ,-10, 70, -80,85]\n",
    "sum_zero = closest_sum_to_zero(arr4)\n",
    "\n",
    "if sum_zero:\n",
    "    print(\"The two numbers whose sum is closest to zero are:\", sum_zero)\n",
    "else:\n",
    "    print(\"No numbers found.\")\n"
   ]
  },
  {
   "cell_type": "code",
   "execution_count": 6,
   "id": "3df83aa5-d20c-4736-9d24-37841a4addcc",
   "metadata": {},
   "outputs": [
    {
     "name": "stdout",
     "output_type": "stream",
     "text": [
      "[1, 4, 13]\n"
     ]
    }
   ],
   "source": [
    "'''Problem 6 : Given an array of n elements . Find three elements such that their sum is equal to the given \n",
    "number.'''\n",
    "def three_num_sum(arr5, target_value):\n",
    "    pair = []\n",
    "    n = len(arr5)\n",
    "\n",
    "    for i in range(n - 2):\n",
    "        left = i + 1\n",
    "        right = n - 1\n",
    "\n",
    "        while left < right:\n",
    "            current_sum = arr5[i] + arr5[left] + arr5[right]\n",
    "\n",
    "            if current_sum == target_value:\n",
    "                return [arr5[i], arr5[left], arr5[right]]\n",
    "            elif current_sum < target_value:\n",
    "                left += 1\n",
    "            else:\n",
    "                right -= 1\n",
    "\n",
    "    return \"No three elements found which sum to target_value\"\n",
    "\n",
    "arr5 = [1, 2, 3, 4, 5, 6, 7, 8, 9, 13]\n",
    "three_num = three_num_sum(arr5, 18)\n",
    "print(three_num)"
   ]
  },
  {
   "cell_type": "code",
   "execution_count": 7,
   "id": "1cf4be4d-5ad2-48ca-8812-d731d008e6c5",
   "metadata": {},
   "outputs": [
    {
     "name": "stdout",
     "output_type": "stream",
     "text": [
      "The three element of pythagorean are :[3, 4, 5]\n"
     ]
    }
   ],
   "source": [
    "'''Problem 7 : Given an array of n elements . Find three elements i, j, k in the array such that\n",
    "i * i + j * j = k*k.'''\n",
    "def three_elements(arr6):\n",
    "    arr6.sort()\n",
    "    n = len(arr6)\n",
    "\n",
    "    for i in range(n-1, 1, -1):\n",
    "        left = 0\n",
    "        right = i-1\n",
    "\n",
    "        while left < right :\n",
    "            a = arr6[left] * arr6[left] \n",
    "            b = arr6[right] * arr6[right]\n",
    "            c = arr6[i] * arr6[i] \n",
    "            if a + b == c :\n",
    "                return f\"The three element of pythagorean are :{[ arr6[left],arr6[right],arr6[i]]}\"\n",
    "            elif a + b < c :\n",
    "                left += 1\n",
    "            else:\n",
    "                right -= 1\n",
    "    return \"No Pythagorean triplet found\"\n",
    "\n",
    "arr6 = [3, 1, 4, 6, 5]\n",
    "result = three_elements(arr6)\n",
    "print(result)"
   ]
  },
  {
   "cell_type": "code",
   "execution_count": 8,
   "id": "7d0d618c-727b-40c2-b537-ca0aaf61dda3",
   "metadata": {},
   "outputs": [
    {
     "name": "stdout",
     "output_type": "stream",
     "text": [
      "The majority element is 1\n"
     ]
    }
   ],
   "source": [
    "'''Problem 8 : An element is a majority if it appears more than n/2 times. Give an algorithm takes an array of n \n",
    "element as argument and identifies a majority (if it exists)'''\n",
    "\n",
    "def find_majority_element(arr):\n",
    "    candidate = None\n",
    "    count = 0\n",
    "\n",
    "    # Step 1: Find a potential candidate for the majority element\n",
    "    for num in arr:\n",
    "        if count == 0:\n",
    "            candidate = num\n",
    "        count += 1 if num == candidate else -1\n",
    "\n",
    "    # Step 2: Verify if the candidate is a majority element\n",
    "    count = arr.count(candidate)\n",
    "    if count > len(arr) // 2:\n",
    "        return f\"The majority element is {candidate}\"\n",
    "    else:\n",
    "        return \"No majority element found\"\n",
    "\n",
    "# Example usage:\n",
    "arr = [1, 2, 1, 2, 1, 1, 2, 1, 2, 1, 2]\n",
    "result = find_majority_element(arr)\n",
    "print(result)"
   ]
  },
  {
   "cell_type": "code",
   "execution_count": 9,
   "id": "fe1499fe-97fd-408c-b34b-0b499dded987",
   "metadata": {},
   "outputs": [
    {
     "name": "stdout",
     "output_type": "stream",
     "text": [
      "The row with the maximum number of zeros is: 2\n"
     ]
    }
   ],
   "source": [
    "'''Problem 9 : Given n * n matrix, and in each row all 1's are followed by 0's. Find the row with the maximum \n",
    "number of 0's'''\n",
    "def find_max_zeros_row(matrix):\n",
    "    max_zeros_row = -1\n",
    "    max_zeros_count = -1\n",
    "\n",
    "    n = len(matrix)\n",
    "\n",
    "    for i in range(n):\n",
    "        left, right = 0, n - 1\n",
    "\n",
    "        # Binary search to find the leftmost occurrence of 0 in the current row\n",
    "        while left <= right:\n",
    "            mid = left + (right - left) // 2\n",
    "\n",
    "            if matrix[i][mid] == 0:\n",
    "                # Update the leftmost occurrence of 0\n",
    "                max_zeros_row = i\n",
    "                max_zeros_count = n - mid\n",
    "                left = mid + 1\n",
    "            else:\n",
    "                right = mid - 1\n",
    "\n",
    "    return max_zeros_row\n",
    "\n",
    "# Example usage:\n",
    "matrix = [\n",
    "    [1, 1, 1, 0],\n",
    "    [1, 1, 0, 0],\n",
    "    [1, 0, 0, 0],\n",
    "    [1, 1, 1, 1]\n",
    "]\n",
    "\n",
    "result = find_max_zeros_row(matrix)\n",
    "print(f\"The row with the maximum number of zeros is: {result}\")"
   ]
  },
  {
   "cell_type": "code",
   "execution_count": 10,
   "id": "58d10634-3a8e-44f8-8207-90e6ed2614bd",
   "metadata": {},
   "outputs": [
    {
     "name": "stdout",
     "output_type": "stream",
     "text": [
      "Sorted array: [0, 0, 0, 0, 0, 1, 1, 1, 1, 1, 2, 2]\n"
     ]
    }
   ],
   "source": [
    "'''Problem 10 : Sort an array of 0's, 1's and 2's [or R's, G's and B's]: Given an array A[] consisting of 0's, 1's and \n",
    "2's, give an algorithm for sorting A[].The algorithm should put all 0's first, then all 1's and finally all 2's at the \n",
    "end. Example Input = {0,1,1,0,1,2,1,2,0,0,0,1}, Output = {0,0,0,0,0,1,1,1,1,1,2,2}'''\n",
    "\n",
    "def sort_012(arr):\n",
    "    low = 0\n",
    "    mid = 0\n",
    "    high = len(arr) - 1\n",
    "\n",
    "    while mid <= high:\n",
    "        if arr[mid] == 0:\n",
    "            arr[low], arr[mid] = arr[mid], arr[low]\n",
    "            low += 1\n",
    "            mid += 1\n",
    "        elif arr[mid] == 1:\n",
    "            mid += 1\n",
    "        else:\n",
    "            arr[mid], arr[high] = arr[high], arr[mid]\n",
    "            high -= 1\n",
    "\n",
    "# Example usage:\n",
    "arr = [0, 1, 1, 0, 1, 2, 1, 2, 0, 0, 0, 1]\n",
    "sort_012(arr)\n",
    "print(\"Sorted array:\", arr)"
   ]
  },
  {
   "cell_type": "code",
   "execution_count": null,
   "id": "5f353e1e-a16a-41db-a6e6-f4df9fe11b2a",
   "metadata": {},
   "outputs": [],
   "source": []
  }
 ],
 "metadata": {
  "kernelspec": {
   "display_name": "Python 3 (ipykernel)",
   "language": "python",
   "name": "python3"
  },
  "language_info": {
   "codemirror_mode": {
    "name": "ipython",
    "version": 3
   },
   "file_extension": ".py",
   "mimetype": "text/x-python",
   "name": "python",
   "nbconvert_exporter": "python",
   "pygments_lexer": "ipython3",
   "version": "3.10.8"
  }
 },
 "nbformat": 4,
 "nbformat_minor": 5
}
